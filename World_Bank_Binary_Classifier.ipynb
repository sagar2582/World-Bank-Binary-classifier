{
  "nbformat": 4,
  "nbformat_minor": 0,
  "metadata": {
    "colab": {
      "name": "World Bank Binary Classifier",
      "provenance": [],
      "authorship_tag": "ABX9TyM2NwVB6evU03PaiCeqAAml",
      "include_colab_link": true
    },
    "kernelspec": {
      "name": "python3",
      "display_name": "Python 3"
    },
    "language_info": {
      "name": "python"
    }
  },
  "cells": [
    {
      "cell_type": "markdown",
      "metadata": {
        "id": "view-in-github",
        "colab_type": "text"
      },
      "source": [
        "<a href=\"https://colab.research.google.com/github/sagar2582/World-Bank-Binary-classifier/blob/main/World_Bank_Binary_Classifier.ipynb\" target=\"_parent\"><img src=\"https://colab.research.google.com/assets/colab-badge.svg\" alt=\"Open In Colab\"/></a>"
      ]
    },
    {
      "cell_type": "code",
      "execution_count": 5,
      "metadata": {
        "id": "uZJnsep3BUxX"
      },
      "outputs": [],
      "source": [
        "import matplotlib.pyplot as plt \n",
        "import numpy as np \n",
        "import os # accessing directory structure\n",
        "import pandas as pd "
      ]
    },
    {
      "cell_type": "code",
      "source": [
        "# Connecting to Drive to import the dataset\n",
        "\n",
        "from google.colab import drive\n",
        "drive.mount('/content/drive/')"
      ],
      "metadata": {
        "colab": {
          "base_uri": "https://localhost:8080/"
        },
        "id": "KTuq4XowDT73",
        "outputId": "2229df18-daa4-41e1-b621-b56021de9c70"
      },
      "execution_count": 6,
      "outputs": [
        {
          "output_type": "stream",
          "name": "stdout",
          "text": [
            "Mounted at /content/drive/\n"
          ]
        }
      ]
    },
    {
      "cell_type": "code",
      "source": [
        "df = pd.read_csv('/content/drive/My Drive/Taiyo/world_bank_dataset.csv')"
      ],
      "metadata": {
        "id": "eNeKm9mqDVHm"
      },
      "execution_count": 67,
      "outputs": []
    },
    {
      "cell_type": "code",
      "source": [
        "# Creating a copy of our dataset for futher use\n",
        "\n",
        "df_copy = df.copy()"
      ],
      "metadata": {
        "id": "MLWBxh8ehJJk"
      },
      "execution_count": 68,
      "outputs": []
    },
    {
      "cell_type": "code",
      "source": [
        "# First look\n",
        "df.head()"
      ],
      "metadata": {
        "colab": {
          "base_uri": "https://localhost:8080/",
          "height": 508
        },
        "id": "MqsbgPDvDoLf",
        "outputId": "ecbe6a69-1137-4897-93d7-a0f6243e8b83"
      },
      "execution_count": 69,
      "outputs": [
        {
          "output_type": "execute_result",
          "data": {
            "text/plain": [
              "        id                    regionname  \\\n",
              "0  P151169  Middle East and North Africa   \n",
              "1  P154943         East Asia and Pacific   \n",
              "2  P161382         East Asia and Pacific   \n",
              "3  P163922         East Asia and Pacific   \n",
              "4  P169279         East Asia and Pacific   \n",
              "\n",
              "                                         countryname prodline  \\\n",
              "0              Kingdom of Morocco;Kingdom of Morocco       PE   \n",
              "1                  Kingdom of Tonga;Kingdom of Tonga       PE   \n",
              "2  Republic of the Marshall Islands;Republic of t...       PE   \n",
              "3  Federated States of Micronesia;Federated State...       PE   \n",
              "4                                        Samoa;Samoa       PE   \n",
              "\n",
              "                   lendinginstr lendinginstrtype envassesmentcategorycode  \\\n",
              "0  Investment Project Financing               IN                        B   \n",
              "1  Investment Project Financing               IN                        C   \n",
              "2  Investment Project Financing               IN                        B   \n",
              "3  Investment Project Financing               IN                        B   \n",
              "4  Investment Project Financing               IN                      NaN   \n",
              "\n",
              "  supplementprojectflg productlinetype projectstatusdisplay  ... mjtheme3name  \\\n",
              "0                    N               L               Active  ...          NaN   \n",
              "1                    N               L               Active  ...          NaN   \n",
              "2                    N               L               Active  ...          NaN   \n",
              "3                    N               L               Active  ...          NaN   \n",
              "4                    Y               L               Active  ...          NaN   \n",
              "\n",
              "  mjtheme4name mjtheme5name location GeoLocID GeoLocName Latitude Longitude  \\\n",
              "0          NaN          NaN      NaN      NaN        NaN      NaN       NaN   \n",
              "1          NaN          NaN      NaN      NaN        NaN      NaN       NaN   \n",
              "2          NaN          NaN      NaN      NaN        NaN      NaN       NaN   \n",
              "3          NaN          NaN      NaN      NaN        NaN      NaN       NaN   \n",
              "4          NaN          NaN      NaN      NaN        NaN      NaN       NaN   \n",
              "\n",
              "  Country Unnamed: 56  \n",
              "0     NaN         NaN  \n",
              "1     NaN         NaN  \n",
              "2     NaN         NaN  \n",
              "3     NaN         NaN  \n",
              "4     NaN         NaN  \n",
              "\n",
              "[5 rows x 57 columns]"
            ],
            "text/html": [
              "\n",
              "  <div id=\"df-1f74b4a1-331c-4646-87de-0bbed2ea8251\">\n",
              "    <div class=\"colab-df-container\">\n",
              "      <div>\n",
              "<style scoped>\n",
              "    .dataframe tbody tr th:only-of-type {\n",
              "        vertical-align: middle;\n",
              "    }\n",
              "\n",
              "    .dataframe tbody tr th {\n",
              "        vertical-align: top;\n",
              "    }\n",
              "\n",
              "    .dataframe thead th {\n",
              "        text-align: right;\n",
              "    }\n",
              "</style>\n",
              "<table border=\"1\" class=\"dataframe\">\n",
              "  <thead>\n",
              "    <tr style=\"text-align: right;\">\n",
              "      <th></th>\n",
              "      <th>id</th>\n",
              "      <th>regionname</th>\n",
              "      <th>countryname</th>\n",
              "      <th>prodline</th>\n",
              "      <th>lendinginstr</th>\n",
              "      <th>lendinginstrtype</th>\n",
              "      <th>envassesmentcategorycode</th>\n",
              "      <th>supplementprojectflg</th>\n",
              "      <th>productlinetype</th>\n",
              "      <th>projectstatusdisplay</th>\n",
              "      <th>...</th>\n",
              "      <th>mjtheme3name</th>\n",
              "      <th>mjtheme4name</th>\n",
              "      <th>mjtheme5name</th>\n",
              "      <th>location</th>\n",
              "      <th>GeoLocID</th>\n",
              "      <th>GeoLocName</th>\n",
              "      <th>Latitude</th>\n",
              "      <th>Longitude</th>\n",
              "      <th>Country</th>\n",
              "      <th>Unnamed: 56</th>\n",
              "    </tr>\n",
              "  </thead>\n",
              "  <tbody>\n",
              "    <tr>\n",
              "      <th>0</th>\n",
              "      <td>P151169</td>\n",
              "      <td>Middle East and North Africa</td>\n",
              "      <td>Kingdom of Morocco;Kingdom of Morocco</td>\n",
              "      <td>PE</td>\n",
              "      <td>Investment Project Financing</td>\n",
              "      <td>IN</td>\n",
              "      <td>B</td>\n",
              "      <td>N</td>\n",
              "      <td>L</td>\n",
              "      <td>Active</td>\n",
              "      <td>...</td>\n",
              "      <td>NaN</td>\n",
              "      <td>NaN</td>\n",
              "      <td>NaN</td>\n",
              "      <td>NaN</td>\n",
              "      <td>NaN</td>\n",
              "      <td>NaN</td>\n",
              "      <td>NaN</td>\n",
              "      <td>NaN</td>\n",
              "      <td>NaN</td>\n",
              "      <td>NaN</td>\n",
              "    </tr>\n",
              "    <tr>\n",
              "      <th>1</th>\n",
              "      <td>P154943</td>\n",
              "      <td>East Asia and Pacific</td>\n",
              "      <td>Kingdom of Tonga;Kingdom of Tonga</td>\n",
              "      <td>PE</td>\n",
              "      <td>Investment Project Financing</td>\n",
              "      <td>IN</td>\n",
              "      <td>C</td>\n",
              "      <td>N</td>\n",
              "      <td>L</td>\n",
              "      <td>Active</td>\n",
              "      <td>...</td>\n",
              "      <td>NaN</td>\n",
              "      <td>NaN</td>\n",
              "      <td>NaN</td>\n",
              "      <td>NaN</td>\n",
              "      <td>NaN</td>\n",
              "      <td>NaN</td>\n",
              "      <td>NaN</td>\n",
              "      <td>NaN</td>\n",
              "      <td>NaN</td>\n",
              "      <td>NaN</td>\n",
              "    </tr>\n",
              "    <tr>\n",
              "      <th>2</th>\n",
              "      <td>P161382</td>\n",
              "      <td>East Asia and Pacific</td>\n",
              "      <td>Republic of the Marshall Islands;Republic of t...</td>\n",
              "      <td>PE</td>\n",
              "      <td>Investment Project Financing</td>\n",
              "      <td>IN</td>\n",
              "      <td>B</td>\n",
              "      <td>N</td>\n",
              "      <td>L</td>\n",
              "      <td>Active</td>\n",
              "      <td>...</td>\n",
              "      <td>NaN</td>\n",
              "      <td>NaN</td>\n",
              "      <td>NaN</td>\n",
              "      <td>NaN</td>\n",
              "      <td>NaN</td>\n",
              "      <td>NaN</td>\n",
              "      <td>NaN</td>\n",
              "      <td>NaN</td>\n",
              "      <td>NaN</td>\n",
              "      <td>NaN</td>\n",
              "    </tr>\n",
              "    <tr>\n",
              "      <th>3</th>\n",
              "      <td>P163922</td>\n",
              "      <td>East Asia and Pacific</td>\n",
              "      <td>Federated States of Micronesia;Federated State...</td>\n",
              "      <td>PE</td>\n",
              "      <td>Investment Project Financing</td>\n",
              "      <td>IN</td>\n",
              "      <td>B</td>\n",
              "      <td>N</td>\n",
              "      <td>L</td>\n",
              "      <td>Active</td>\n",
              "      <td>...</td>\n",
              "      <td>NaN</td>\n",
              "      <td>NaN</td>\n",
              "      <td>NaN</td>\n",
              "      <td>NaN</td>\n",
              "      <td>NaN</td>\n",
              "      <td>NaN</td>\n",
              "      <td>NaN</td>\n",
              "      <td>NaN</td>\n",
              "      <td>NaN</td>\n",
              "      <td>NaN</td>\n",
              "    </tr>\n",
              "    <tr>\n",
              "      <th>4</th>\n",
              "      <td>P169279</td>\n",
              "      <td>East Asia and Pacific</td>\n",
              "      <td>Samoa;Samoa</td>\n",
              "      <td>PE</td>\n",
              "      <td>Investment Project Financing</td>\n",
              "      <td>IN</td>\n",
              "      <td>NaN</td>\n",
              "      <td>Y</td>\n",
              "      <td>L</td>\n",
              "      <td>Active</td>\n",
              "      <td>...</td>\n",
              "      <td>NaN</td>\n",
              "      <td>NaN</td>\n",
              "      <td>NaN</td>\n",
              "      <td>NaN</td>\n",
              "      <td>NaN</td>\n",
              "      <td>NaN</td>\n",
              "      <td>NaN</td>\n",
              "      <td>NaN</td>\n",
              "      <td>NaN</td>\n",
              "      <td>NaN</td>\n",
              "    </tr>\n",
              "  </tbody>\n",
              "</table>\n",
              "<p>5 rows × 57 columns</p>\n",
              "</div>\n",
              "      <button class=\"colab-df-convert\" onclick=\"convertToInteractive('df-1f74b4a1-331c-4646-87de-0bbed2ea8251')\"\n",
              "              title=\"Convert this dataframe to an interactive table.\"\n",
              "              style=\"display:none;\">\n",
              "        \n",
              "  <svg xmlns=\"http://www.w3.org/2000/svg\" height=\"24px\"viewBox=\"0 0 24 24\"\n",
              "       width=\"24px\">\n",
              "    <path d=\"M0 0h24v24H0V0z\" fill=\"none\"/>\n",
              "    <path d=\"M18.56 5.44l.94 2.06.94-2.06 2.06-.94-2.06-.94-.94-2.06-.94 2.06-2.06.94zm-11 1L8.5 8.5l.94-2.06 2.06-.94-2.06-.94L8.5 2.5l-.94 2.06-2.06.94zm10 10l.94 2.06.94-2.06 2.06-.94-2.06-.94-.94-2.06-.94 2.06-2.06.94z\"/><path d=\"M17.41 7.96l-1.37-1.37c-.4-.4-.92-.59-1.43-.59-.52 0-1.04.2-1.43.59L10.3 9.45l-7.72 7.72c-.78.78-.78 2.05 0 2.83L4 21.41c.39.39.9.59 1.41.59.51 0 1.02-.2 1.41-.59l7.78-7.78 2.81-2.81c.8-.78.8-2.07 0-2.86zM5.41 20L4 18.59l7.72-7.72 1.47 1.35L5.41 20z\"/>\n",
              "  </svg>\n",
              "      </button>\n",
              "      \n",
              "  <style>\n",
              "    .colab-df-container {\n",
              "      display:flex;\n",
              "      flex-wrap:wrap;\n",
              "      gap: 12px;\n",
              "    }\n",
              "\n",
              "    .colab-df-convert {\n",
              "      background-color: #E8F0FE;\n",
              "      border: none;\n",
              "      border-radius: 50%;\n",
              "      cursor: pointer;\n",
              "      display: none;\n",
              "      fill: #1967D2;\n",
              "      height: 32px;\n",
              "      padding: 0 0 0 0;\n",
              "      width: 32px;\n",
              "    }\n",
              "\n",
              "    .colab-df-convert:hover {\n",
              "      background-color: #E2EBFA;\n",
              "      box-shadow: 0px 1px 2px rgba(60, 64, 67, 0.3), 0px 1px 3px 1px rgba(60, 64, 67, 0.15);\n",
              "      fill: #174EA6;\n",
              "    }\n",
              "\n",
              "    [theme=dark] .colab-df-convert {\n",
              "      background-color: #3B4455;\n",
              "      fill: #D2E3FC;\n",
              "    }\n",
              "\n",
              "    [theme=dark] .colab-df-convert:hover {\n",
              "      background-color: #434B5C;\n",
              "      box-shadow: 0px 1px 3px 1px rgba(0, 0, 0, 0.15);\n",
              "      filter: drop-shadow(0px 1px 2px rgba(0, 0, 0, 0.3));\n",
              "      fill: #FFFFFF;\n",
              "    }\n",
              "  </style>\n",
              "\n",
              "      <script>\n",
              "        const buttonEl =\n",
              "          document.querySelector('#df-1f74b4a1-331c-4646-87de-0bbed2ea8251 button.colab-df-convert');\n",
              "        buttonEl.style.display =\n",
              "          google.colab.kernel.accessAllowed ? 'block' : 'none';\n",
              "\n",
              "        async function convertToInteractive(key) {\n",
              "          const element = document.querySelector('#df-1f74b4a1-331c-4646-87de-0bbed2ea8251');\n",
              "          const dataTable =\n",
              "            await google.colab.kernel.invokeFunction('convertToInteractive',\n",
              "                                                     [key], {});\n",
              "          if (!dataTable) return;\n",
              "\n",
              "          const docLinkHtml = 'Like what you see? Visit the ' +\n",
              "            '<a target=\"_blank\" href=https://colab.research.google.com/notebooks/data_table.ipynb>data table notebook</a>'\n",
              "            + ' to learn more about interactive tables.';\n",
              "          element.innerHTML = '';\n",
              "          dataTable['output_type'] = 'display_data';\n",
              "          await google.colab.output.renderOutput(dataTable, element);\n",
              "          const docLink = document.createElement('div');\n",
              "          docLink.innerHTML = docLinkHtml;\n",
              "          element.appendChild(docLink);\n",
              "        }\n",
              "      </script>\n",
              "    </div>\n",
              "  </div>\n",
              "  "
            ]
          },
          "metadata": {},
          "execution_count": 69
        }
      ]
    },
    {
      "cell_type": "code",
      "source": [
        "df.tail()"
      ],
      "metadata": {
        "colab": {
          "base_uri": "https://localhost:8080/",
          "height": 508
        },
        "id": "gCtNGAvDMsOJ",
        "outputId": "f6a8a019-48cf-44ac-edb7-8d9e617be450"
      },
      "execution_count": 70,
      "outputs": [
        {
          "output_type": "execute_result",
          "data": {
            "text/plain": [
              "            id                   regionname  \\\n",
              "18836  P006578  Latin America and Caribbean   \n",
              "18837  P037451      Europe and Central Asia   \n",
              "18838  P037362      Europe and Central Asia   \n",
              "18839  P037452      Europe and Central Asia   \n",
              "18840  P037383      Europe and Central Asia   \n",
              "\n",
              "                                             countryname prodline  \\\n",
              "18836                Republic of Chile;Republic of Chile       PE   \n",
              "18837  Grand Duchy of Luxembourg;Grand Duchy of Luxem...       PE   \n",
              "18838              Kingdom of Denmark;Kingdom of Denmark       PE   \n",
              "18839  Kingdom of the Netherlands;Kingdom of the Neth...       PE   \n",
              "18840                    French Republic;French Republic       PE   \n",
              "\n",
              "                     lendinginstr lendinginstrtype envassesmentcategorycode  \\\n",
              "18836    Specific Investment Loan               IN                      NaN   \n",
              "18837  Structural Adjustment Loan               AD                      NaN   \n",
              "18838  Structural Adjustment Loan               AD                      NaN   \n",
              "18839  Structural Adjustment Loan               AD                      NaN   \n",
              "18840  Structural Adjustment Loan               AD                      NaN   \n",
              "\n",
              "      supplementprojectflg productlinetype projectstatusdisplay  ...  \\\n",
              "18836                    N               L               Closed  ...   \n",
              "18837                    N               L               Closed  ...   \n",
              "18838                    N               L               Closed  ...   \n",
              "18839                    N               L               Closed  ...   \n",
              "18840                    N               L               Closed  ...   \n",
              "\n",
              "      mjtheme3name mjtheme4name mjtheme5name location GeoLocID GeoLocName  \\\n",
              "18836          NaN          NaN          NaN      NaN      NaN        NaN   \n",
              "18837          NaN          NaN          NaN      NaN      NaN        NaN   \n",
              "18838          NaN          NaN          NaN      NaN      NaN        NaN   \n",
              "18839          NaN          NaN          NaN      NaN      NaN        NaN   \n",
              "18840          NaN          NaN          NaN      NaN      NaN        NaN   \n",
              "\n",
              "      Latitude Longitude Country Unnamed: 56  \n",
              "18836      NaN       NaN     NaN         NaN  \n",
              "18837      NaN       NaN     NaN         NaN  \n",
              "18838      NaN       NaN     NaN         NaN  \n",
              "18839      NaN       NaN     NaN         NaN  \n",
              "18840      NaN       NaN     NaN         NaN  \n",
              "\n",
              "[5 rows x 57 columns]"
            ],
            "text/html": [
              "\n",
              "  <div id=\"df-8147ce67-f3af-4922-a85d-a0c9584fdf2d\">\n",
              "    <div class=\"colab-df-container\">\n",
              "      <div>\n",
              "<style scoped>\n",
              "    .dataframe tbody tr th:only-of-type {\n",
              "        vertical-align: middle;\n",
              "    }\n",
              "\n",
              "    .dataframe tbody tr th {\n",
              "        vertical-align: top;\n",
              "    }\n",
              "\n",
              "    .dataframe thead th {\n",
              "        text-align: right;\n",
              "    }\n",
              "</style>\n",
              "<table border=\"1\" class=\"dataframe\">\n",
              "  <thead>\n",
              "    <tr style=\"text-align: right;\">\n",
              "      <th></th>\n",
              "      <th>id</th>\n",
              "      <th>regionname</th>\n",
              "      <th>countryname</th>\n",
              "      <th>prodline</th>\n",
              "      <th>lendinginstr</th>\n",
              "      <th>lendinginstrtype</th>\n",
              "      <th>envassesmentcategorycode</th>\n",
              "      <th>supplementprojectflg</th>\n",
              "      <th>productlinetype</th>\n",
              "      <th>projectstatusdisplay</th>\n",
              "      <th>...</th>\n",
              "      <th>mjtheme3name</th>\n",
              "      <th>mjtheme4name</th>\n",
              "      <th>mjtheme5name</th>\n",
              "      <th>location</th>\n",
              "      <th>GeoLocID</th>\n",
              "      <th>GeoLocName</th>\n",
              "      <th>Latitude</th>\n",
              "      <th>Longitude</th>\n",
              "      <th>Country</th>\n",
              "      <th>Unnamed: 56</th>\n",
              "    </tr>\n",
              "  </thead>\n",
              "  <tbody>\n",
              "    <tr>\n",
              "      <th>18836</th>\n",
              "      <td>P006578</td>\n",
              "      <td>Latin America and Caribbean</td>\n",
              "      <td>Republic of Chile;Republic of Chile</td>\n",
              "      <td>PE</td>\n",
              "      <td>Specific Investment Loan</td>\n",
              "      <td>IN</td>\n",
              "      <td>NaN</td>\n",
              "      <td>N</td>\n",
              "      <td>L</td>\n",
              "      <td>Closed</td>\n",
              "      <td>...</td>\n",
              "      <td>NaN</td>\n",
              "      <td>NaN</td>\n",
              "      <td>NaN</td>\n",
              "      <td>NaN</td>\n",
              "      <td>NaN</td>\n",
              "      <td>NaN</td>\n",
              "      <td>NaN</td>\n",
              "      <td>NaN</td>\n",
              "      <td>NaN</td>\n",
              "      <td>NaN</td>\n",
              "    </tr>\n",
              "    <tr>\n",
              "      <th>18837</th>\n",
              "      <td>P037451</td>\n",
              "      <td>Europe and Central Asia</td>\n",
              "      <td>Grand Duchy of Luxembourg;Grand Duchy of Luxem...</td>\n",
              "      <td>PE</td>\n",
              "      <td>Structural Adjustment Loan</td>\n",
              "      <td>AD</td>\n",
              "      <td>NaN</td>\n",
              "      <td>N</td>\n",
              "      <td>L</td>\n",
              "      <td>Closed</td>\n",
              "      <td>...</td>\n",
              "      <td>NaN</td>\n",
              "      <td>NaN</td>\n",
              "      <td>NaN</td>\n",
              "      <td>NaN</td>\n",
              "      <td>NaN</td>\n",
              "      <td>NaN</td>\n",
              "      <td>NaN</td>\n",
              "      <td>NaN</td>\n",
              "      <td>NaN</td>\n",
              "      <td>NaN</td>\n",
              "    </tr>\n",
              "    <tr>\n",
              "      <th>18838</th>\n",
              "      <td>P037362</td>\n",
              "      <td>Europe and Central Asia</td>\n",
              "      <td>Kingdom of Denmark;Kingdom of Denmark</td>\n",
              "      <td>PE</td>\n",
              "      <td>Structural Adjustment Loan</td>\n",
              "      <td>AD</td>\n",
              "      <td>NaN</td>\n",
              "      <td>N</td>\n",
              "      <td>L</td>\n",
              "      <td>Closed</td>\n",
              "      <td>...</td>\n",
              "      <td>NaN</td>\n",
              "      <td>NaN</td>\n",
              "      <td>NaN</td>\n",
              "      <td>NaN</td>\n",
              "      <td>NaN</td>\n",
              "      <td>NaN</td>\n",
              "      <td>NaN</td>\n",
              "      <td>NaN</td>\n",
              "      <td>NaN</td>\n",
              "      <td>NaN</td>\n",
              "    </tr>\n",
              "    <tr>\n",
              "      <th>18839</th>\n",
              "      <td>P037452</td>\n",
              "      <td>Europe and Central Asia</td>\n",
              "      <td>Kingdom of the Netherlands;Kingdom of the Neth...</td>\n",
              "      <td>PE</td>\n",
              "      <td>Structural Adjustment Loan</td>\n",
              "      <td>AD</td>\n",
              "      <td>NaN</td>\n",
              "      <td>N</td>\n",
              "      <td>L</td>\n",
              "      <td>Closed</td>\n",
              "      <td>...</td>\n",
              "      <td>NaN</td>\n",
              "      <td>NaN</td>\n",
              "      <td>NaN</td>\n",
              "      <td>NaN</td>\n",
              "      <td>NaN</td>\n",
              "      <td>NaN</td>\n",
              "      <td>NaN</td>\n",
              "      <td>NaN</td>\n",
              "      <td>NaN</td>\n",
              "      <td>NaN</td>\n",
              "    </tr>\n",
              "    <tr>\n",
              "      <th>18840</th>\n",
              "      <td>P037383</td>\n",
              "      <td>Europe and Central Asia</td>\n",
              "      <td>French Republic;French Republic</td>\n",
              "      <td>PE</td>\n",
              "      <td>Structural Adjustment Loan</td>\n",
              "      <td>AD</td>\n",
              "      <td>NaN</td>\n",
              "      <td>N</td>\n",
              "      <td>L</td>\n",
              "      <td>Closed</td>\n",
              "      <td>...</td>\n",
              "      <td>NaN</td>\n",
              "      <td>NaN</td>\n",
              "      <td>NaN</td>\n",
              "      <td>NaN</td>\n",
              "      <td>NaN</td>\n",
              "      <td>NaN</td>\n",
              "      <td>NaN</td>\n",
              "      <td>NaN</td>\n",
              "      <td>NaN</td>\n",
              "      <td>NaN</td>\n",
              "    </tr>\n",
              "  </tbody>\n",
              "</table>\n",
              "<p>5 rows × 57 columns</p>\n",
              "</div>\n",
              "      <button class=\"colab-df-convert\" onclick=\"convertToInteractive('df-8147ce67-f3af-4922-a85d-a0c9584fdf2d')\"\n",
              "              title=\"Convert this dataframe to an interactive table.\"\n",
              "              style=\"display:none;\">\n",
              "        \n",
              "  <svg xmlns=\"http://www.w3.org/2000/svg\" height=\"24px\"viewBox=\"0 0 24 24\"\n",
              "       width=\"24px\">\n",
              "    <path d=\"M0 0h24v24H0V0z\" fill=\"none\"/>\n",
              "    <path d=\"M18.56 5.44l.94 2.06.94-2.06 2.06-.94-2.06-.94-.94-2.06-.94 2.06-2.06.94zm-11 1L8.5 8.5l.94-2.06 2.06-.94-2.06-.94L8.5 2.5l-.94 2.06-2.06.94zm10 10l.94 2.06.94-2.06 2.06-.94-2.06-.94-.94-2.06-.94 2.06-2.06.94z\"/><path d=\"M17.41 7.96l-1.37-1.37c-.4-.4-.92-.59-1.43-.59-.52 0-1.04.2-1.43.59L10.3 9.45l-7.72 7.72c-.78.78-.78 2.05 0 2.83L4 21.41c.39.39.9.59 1.41.59.51 0 1.02-.2 1.41-.59l7.78-7.78 2.81-2.81c.8-.78.8-2.07 0-2.86zM5.41 20L4 18.59l7.72-7.72 1.47 1.35L5.41 20z\"/>\n",
              "  </svg>\n",
              "      </button>\n",
              "      \n",
              "  <style>\n",
              "    .colab-df-container {\n",
              "      display:flex;\n",
              "      flex-wrap:wrap;\n",
              "      gap: 12px;\n",
              "    }\n",
              "\n",
              "    .colab-df-convert {\n",
              "      background-color: #E8F0FE;\n",
              "      border: none;\n",
              "      border-radius: 50%;\n",
              "      cursor: pointer;\n",
              "      display: none;\n",
              "      fill: #1967D2;\n",
              "      height: 32px;\n",
              "      padding: 0 0 0 0;\n",
              "      width: 32px;\n",
              "    }\n",
              "\n",
              "    .colab-df-convert:hover {\n",
              "      background-color: #E2EBFA;\n",
              "      box-shadow: 0px 1px 2px rgba(60, 64, 67, 0.3), 0px 1px 3px 1px rgba(60, 64, 67, 0.15);\n",
              "      fill: #174EA6;\n",
              "    }\n",
              "\n",
              "    [theme=dark] .colab-df-convert {\n",
              "      background-color: #3B4455;\n",
              "      fill: #D2E3FC;\n",
              "    }\n",
              "\n",
              "    [theme=dark] .colab-df-convert:hover {\n",
              "      background-color: #434B5C;\n",
              "      box-shadow: 0px 1px 3px 1px rgba(0, 0, 0, 0.15);\n",
              "      filter: drop-shadow(0px 1px 2px rgba(0, 0, 0, 0.3));\n",
              "      fill: #FFFFFF;\n",
              "    }\n",
              "  </style>\n",
              "\n",
              "      <script>\n",
              "        const buttonEl =\n",
              "          document.querySelector('#df-8147ce67-f3af-4922-a85d-a0c9584fdf2d button.colab-df-convert');\n",
              "        buttonEl.style.display =\n",
              "          google.colab.kernel.accessAllowed ? 'block' : 'none';\n",
              "\n",
              "        async function convertToInteractive(key) {\n",
              "          const element = document.querySelector('#df-8147ce67-f3af-4922-a85d-a0c9584fdf2d');\n",
              "          const dataTable =\n",
              "            await google.colab.kernel.invokeFunction('convertToInteractive',\n",
              "                                                     [key], {});\n",
              "          if (!dataTable) return;\n",
              "\n",
              "          const docLinkHtml = 'Like what you see? Visit the ' +\n",
              "            '<a target=\"_blank\" href=https://colab.research.google.com/notebooks/data_table.ipynb>data table notebook</a>'\n",
              "            + ' to learn more about interactive tables.';\n",
              "          element.innerHTML = '';\n",
              "          dataTable['output_type'] = 'display_data';\n",
              "          await google.colab.output.renderOutput(dataTable, element);\n",
              "          const docLink = document.createElement('div');\n",
              "          docLink.innerHTML = docLinkHtml;\n",
              "          element.appendChild(docLink);\n",
              "        }\n",
              "      </script>\n",
              "    </div>\n",
              "  </div>\n",
              "  "
            ]
          },
          "metadata": {},
          "execution_count": 70
        }
      ]
    },
    {
      "cell_type": "code",
      "source": [
        "df.shape"
      ],
      "metadata": {
        "colab": {
          "base_uri": "https://localhost:8080/"
        },
        "id": "v0uvBgiUNOFZ",
        "outputId": "f95415f2-c9b4-426e-cb54-0ec606389a2a"
      },
      "execution_count": 71,
      "outputs": [
        {
          "output_type": "execute_result",
          "data": {
            "text/plain": [
              "(18841, 57)"
            ]
          },
          "metadata": {},
          "execution_count": 71
        }
      ]
    },
    {
      "cell_type": "markdown",
      "source": [
        "# Dataset Information\n",
        "The shape of our dataset is (18841, 57)\n",
        "\n",
        "id --> unique id-number for every project i.e., 18841 unique id's\n",
        "\n",
        "regionname --> points towards the particular region of the world where the project belongs from\n",
        "\n",
        "countryname --> name of the country\n",
        "\n",
        "prodline --> product line - PE or RE (No idea what's this. I let the algo work on it)\n",
        "\n",
        "lendinginstr --> different investment purposes\n",
        "\n",
        "lendinginstrtype --> type of investment\n",
        "\n",
        "envassesmentcategorycode --> investment category code\n",
        "\n",
        "supplementprojectflg --> (No idea what's this) binary categoriacal column\n",
        "\n",
        "productlinetype --> Single variable column. No use\n",
        "\n",
        "projectstatusdisplay --> current live status\n",
        "\n",
        "**status** --> overall status (Target Variable)\n",
        "\n",
        "and more ....."
      ],
      "metadata": {
        "id": "rZmKPu4DNFPa"
      }
    },
    {
      "cell_type": "markdown",
      "source": [
        "## I see a lot of columns with a lot of NULL values, so let's start with cleaning our data and making it ready for visualization"
      ],
      "metadata": {
        "id": "PN_PTL4TgHhO"
      }
    },
    {
      "cell_type": "code",
      "source": [
        "df.info()"
      ],
      "metadata": {
        "colab": {
          "base_uri": "https://localhost:8080/"
        },
        "id": "7OLyxSbPMuGQ",
        "outputId": "fd183a75-adef-4a37-ead0-7e4ee1a7f775"
      },
      "execution_count": 72,
      "outputs": [
        {
          "output_type": "stream",
          "name": "stdout",
          "text": [
            "<class 'pandas.core.frame.DataFrame'>\n",
            "RangeIndex: 18841 entries, 0 to 18840\n",
            "Data columns (total 57 columns):\n",
            " #   Column                    Non-Null Count  Dtype  \n",
            "---  ------                    --------------  -----  \n",
            " 0   id                        18841 non-null  object \n",
            " 1   regionname                18841 non-null  object \n",
            " 2   countryname               18841 non-null  object \n",
            " 3   prodline                  18841 non-null  object \n",
            " 4   lendinginstr              18580 non-null  object \n",
            " 5   lendinginstrtype          18580 non-null  object \n",
            " 6   envassesmentcategorycode  12731 non-null  object \n",
            " 7   supplementprojectflg      18792 non-null  object \n",
            " 8   productlinetype           18841 non-null  object \n",
            " 9   projectstatusdisplay      18839 non-null  object \n",
            " 10  status                    18839 non-null  object \n",
            " 11  project_name              18841 non-null  object \n",
            " 12  boardapprovaldate         17172 non-null  object \n",
            " 13  board_approval_month      17172 non-null  object \n",
            " 14  closingdate               15296 non-null  object \n",
            " 15  lendprojectcost           18709 non-null  object \n",
            " 16  ibrdcommamt               18841 non-null  object \n",
            " 17  idacommamt                18841 non-null  object \n",
            " 18  totalamt                  18841 non-null  object \n",
            " 19  grantamt                  18841 non-null  object \n",
            " 20  borrower                  12472 non-null  object \n",
            " 21  impagency                 12288 non-null  object \n",
            " 22  url                       18841 non-null  object \n",
            " 23  projectdoc                0 non-null      float64\n",
            " 24  majorsector_percent       0 non-null      float64\n",
            " 25  sector1                   18841 non-null  object \n",
            " 26  sector2                   9810 non-null   object \n",
            " 27  sector3                   6672 non-null   object \n",
            " 28  sector4                   4480 non-null   object \n",
            " 29  sector5                   2770 non-null   object \n",
            " 30  sector                    18065 non-null  object \n",
            " 31  mjsector1                 0 non-null      float64\n",
            " 32  mjsector2                 0 non-null      float64\n",
            " 33  mjsector3                 0 non-null      float64\n",
            " 34  mjsector4                 0 non-null      float64\n",
            " 35  mjsector5                 0 non-null      float64\n",
            " 36  mjsector                  18065 non-null  object \n",
            " 37  theme1                    18841 non-null  object \n",
            " 38  theme2                    9883 non-null   object \n",
            " 39  theme3                    7508 non-null   object \n",
            " 40  theme4                    5247 non-null   object \n",
            " 41  theme5                    2935 non-null   object \n",
            " 42  theme                     0 non-null      float64\n",
            " 43  goal                      12188 non-null  object \n",
            " 44  financier                 7199 non-null   object \n",
            " 45  mjtheme1name              0 non-null      float64\n",
            " 46  mjtheme2name              0 non-null      float64\n",
            " 47  mjtheme3name              0 non-null      float64\n",
            " 48  mjtheme4name              0 non-null      float64\n",
            " 49  mjtheme5name              0 non-null      float64\n",
            " 50  location                  4569 non-null   object \n",
            " 51  GeoLocID                  4569 non-null   object \n",
            " 52  GeoLocName                4568 non-null   object \n",
            " 53  Latitude                  4569 non-null   object \n",
            " 54  Longitude                 4569 non-null   object \n",
            " 55  Country                   4451 non-null   object \n",
            " 56  Unnamed: 56               0 non-null      float64\n",
            "dtypes: float64(14), object(43)\n",
            "memory usage: 8.2+ MB\n"
          ]
        }
      ]
    },
    {
      "cell_type": "code",
      "source": [
        "df.describe(include='all')"
      ],
      "metadata": {
        "colab": {
          "base_uri": "https://localhost:8080/",
          "height": 539
        },
        "id": "AMCG9z74gd0e",
        "outputId": "b7c5b97e-f3aa-43b6-9a68-2e51f80c5502"
      },
      "execution_count": 73,
      "outputs": [
        {
          "output_type": "execute_result",
          "data": {
            "text/plain": [
              "             id regionname                          countryname prodline  \\\n",
              "count     18841      18841                                18841    18841   \n",
              "unique    18841          7                                  206       10   \n",
              "top     P151169     Africa  Republic of India;Republic of India       PE   \n",
              "freq          1       5900                                  806    15119   \n",
              "mean        NaN        NaN                                  NaN      NaN   \n",
              "std         NaN        NaN                                  NaN      NaN   \n",
              "min         NaN        NaN                                  NaN      NaN   \n",
              "25%         NaN        NaN                                  NaN      NaN   \n",
              "50%         NaN        NaN                                  NaN      NaN   \n",
              "75%         NaN        NaN                                  NaN      NaN   \n",
              "max         NaN        NaN                                  NaN      NaN   \n",
              "\n",
              "                    lendinginstr lendinginstrtype envassesmentcategorycode  \\\n",
              "count                      18580            18580                    12731   \n",
              "unique                        18                4                        6   \n",
              "top     Specific Investment Loan               IN                        B   \n",
              "freq                        7702            16399                     5738   \n",
              "mean                         NaN              NaN                      NaN   \n",
              "std                          NaN              NaN                      NaN   \n",
              "min                          NaN              NaN                      NaN   \n",
              "25%                          NaN              NaN                      NaN   \n",
              "50%                          NaN              NaN                      NaN   \n",
              "75%                          NaN              NaN                      NaN   \n",
              "max                          NaN              NaN                      NaN   \n",
              "\n",
              "       supplementprojectflg productlinetype projectstatusdisplay  ...  \\\n",
              "count                 18792           18841                18839  ...   \n",
              "unique                    2               1                    4  ...   \n",
              "top                       N               L               Closed  ...   \n",
              "freq                  16831           18841                14625  ...   \n",
              "mean                    NaN             NaN                  NaN  ...   \n",
              "std                     NaN             NaN                  NaN  ...   \n",
              "min                     NaN             NaN                  NaN  ...   \n",
              "25%                     NaN             NaN                  NaN  ...   \n",
              "50%                     NaN             NaN                  NaN  ...   \n",
              "75%                     NaN             NaN                  NaN  ...   \n",
              "max                     NaN             NaN                  NaN  ...   \n",
              "\n",
              "       mjtheme3name mjtheme4name mjtheme5name  \\\n",
              "count           0.0          0.0          0.0   \n",
              "unique          NaN          NaN          NaN   \n",
              "top             NaN          NaN          NaN   \n",
              "freq            NaN          NaN          NaN   \n",
              "mean            NaN          NaN          NaN   \n",
              "std             NaN          NaN          NaN   \n",
              "min             NaN          NaN          NaN   \n",
              "25%             NaN          NaN          NaN   \n",
              "50%             NaN          NaN          NaN   \n",
              "75%             NaN          NaN          NaN   \n",
              "max             NaN          NaN          NaN   \n",
              "\n",
              "                                                 location  \\\n",
              "count                                                4569   \n",
              "unique                                               4085   \n",
              "top     0000281132!$!Gaza Strip!$!31.41667!$!34.333328...   \n",
              "freq                                                   13   \n",
              "mean                                                  NaN   \n",
              "std                                                   NaN   \n",
              "min                                                   NaN   \n",
              "25%                                                   NaN   \n",
              "50%                                                   NaN   \n",
              "75%                                                   NaN   \n",
              "max                                                   NaN   \n",
              "\n",
              "                     GeoLocID            GeoLocName           Latitude  \\\n",
              "count                    4569                  4568               4569   \n",
              "unique                   3938                  4003               3919   \n",
              "top     0000281132;0000285153  Gaza Strip;West Bank  31.41667;31.66667   \n",
              "freq                       19                    19                 19   \n",
              "mean                      NaN                   NaN                NaN   \n",
              "std                       NaN                   NaN                NaN   \n",
              "min                       NaN                   NaN                NaN   \n",
              "25%                       NaN                   NaN                NaN   \n",
              "50%                       NaN                   NaN                NaN   \n",
              "75%                       NaN                   NaN                NaN   \n",
              "max                       NaN                   NaN                NaN   \n",
              "\n",
              "              Longitude Country Unnamed: 56  \n",
              "count              4569    4451         0.0  \n",
              "unique             3948    2158         NaN  \n",
              "top     34.333328;35.25      CN         NaN  \n",
              "freq                 13      60         NaN  \n",
              "mean                NaN     NaN         NaN  \n",
              "std                 NaN     NaN         NaN  \n",
              "min                 NaN     NaN         NaN  \n",
              "25%                 NaN     NaN         NaN  \n",
              "50%                 NaN     NaN         NaN  \n",
              "75%                 NaN     NaN         NaN  \n",
              "max                 NaN     NaN         NaN  \n",
              "\n",
              "[11 rows x 57 columns]"
            ],
            "text/html": [
              "\n",
              "  <div id=\"df-a04c41a4-0c36-40af-8fc8-85ceddcd76fc\">\n",
              "    <div class=\"colab-df-container\">\n",
              "      <div>\n",
              "<style scoped>\n",
              "    .dataframe tbody tr th:only-of-type {\n",
              "        vertical-align: middle;\n",
              "    }\n",
              "\n",
              "    .dataframe tbody tr th {\n",
              "        vertical-align: top;\n",
              "    }\n",
              "\n",
              "    .dataframe thead th {\n",
              "        text-align: right;\n",
              "    }\n",
              "</style>\n",
              "<table border=\"1\" class=\"dataframe\">\n",
              "  <thead>\n",
              "    <tr style=\"text-align: right;\">\n",
              "      <th></th>\n",
              "      <th>id</th>\n",
              "      <th>regionname</th>\n",
              "      <th>countryname</th>\n",
              "      <th>prodline</th>\n",
              "      <th>lendinginstr</th>\n",
              "      <th>lendinginstrtype</th>\n",
              "      <th>envassesmentcategorycode</th>\n",
              "      <th>supplementprojectflg</th>\n",
              "      <th>productlinetype</th>\n",
              "      <th>projectstatusdisplay</th>\n",
              "      <th>...</th>\n",
              "      <th>mjtheme3name</th>\n",
              "      <th>mjtheme4name</th>\n",
              "      <th>mjtheme5name</th>\n",
              "      <th>location</th>\n",
              "      <th>GeoLocID</th>\n",
              "      <th>GeoLocName</th>\n",
              "      <th>Latitude</th>\n",
              "      <th>Longitude</th>\n",
              "      <th>Country</th>\n",
              "      <th>Unnamed: 56</th>\n",
              "    </tr>\n",
              "  </thead>\n",
              "  <tbody>\n",
              "    <tr>\n",
              "      <th>count</th>\n",
              "      <td>18841</td>\n",
              "      <td>18841</td>\n",
              "      <td>18841</td>\n",
              "      <td>18841</td>\n",
              "      <td>18580</td>\n",
              "      <td>18580</td>\n",
              "      <td>12731</td>\n",
              "      <td>18792</td>\n",
              "      <td>18841</td>\n",
              "      <td>18839</td>\n",
              "      <td>...</td>\n",
              "      <td>0.0</td>\n",
              "      <td>0.0</td>\n",
              "      <td>0.0</td>\n",
              "      <td>4569</td>\n",
              "      <td>4569</td>\n",
              "      <td>4568</td>\n",
              "      <td>4569</td>\n",
              "      <td>4569</td>\n",
              "      <td>4451</td>\n",
              "      <td>0.0</td>\n",
              "    </tr>\n",
              "    <tr>\n",
              "      <th>unique</th>\n",
              "      <td>18841</td>\n",
              "      <td>7</td>\n",
              "      <td>206</td>\n",
              "      <td>10</td>\n",
              "      <td>18</td>\n",
              "      <td>4</td>\n",
              "      <td>6</td>\n",
              "      <td>2</td>\n",
              "      <td>1</td>\n",
              "      <td>4</td>\n",
              "      <td>...</td>\n",
              "      <td>NaN</td>\n",
              "      <td>NaN</td>\n",
              "      <td>NaN</td>\n",
              "      <td>4085</td>\n",
              "      <td>3938</td>\n",
              "      <td>4003</td>\n",
              "      <td>3919</td>\n",
              "      <td>3948</td>\n",
              "      <td>2158</td>\n",
              "      <td>NaN</td>\n",
              "    </tr>\n",
              "    <tr>\n",
              "      <th>top</th>\n",
              "      <td>P151169</td>\n",
              "      <td>Africa</td>\n",
              "      <td>Republic of India;Republic of India</td>\n",
              "      <td>PE</td>\n",
              "      <td>Specific Investment Loan</td>\n",
              "      <td>IN</td>\n",
              "      <td>B</td>\n",
              "      <td>N</td>\n",
              "      <td>L</td>\n",
              "      <td>Closed</td>\n",
              "      <td>...</td>\n",
              "      <td>NaN</td>\n",
              "      <td>NaN</td>\n",
              "      <td>NaN</td>\n",
              "      <td>0000281132!$!Gaza Strip!$!31.41667!$!34.333328...</td>\n",
              "      <td>0000281132;0000285153</td>\n",
              "      <td>Gaza Strip;West Bank</td>\n",
              "      <td>31.41667;31.66667</td>\n",
              "      <td>34.333328;35.25</td>\n",
              "      <td>CN</td>\n",
              "      <td>NaN</td>\n",
              "    </tr>\n",
              "    <tr>\n",
              "      <th>freq</th>\n",
              "      <td>1</td>\n",
              "      <td>5900</td>\n",
              "      <td>806</td>\n",
              "      <td>15119</td>\n",
              "      <td>7702</td>\n",
              "      <td>16399</td>\n",
              "      <td>5738</td>\n",
              "      <td>16831</td>\n",
              "      <td>18841</td>\n",
              "      <td>14625</td>\n",
              "      <td>...</td>\n",
              "      <td>NaN</td>\n",
              "      <td>NaN</td>\n",
              "      <td>NaN</td>\n",
              "      <td>13</td>\n",
              "      <td>19</td>\n",
              "      <td>19</td>\n",
              "      <td>19</td>\n",
              "      <td>13</td>\n",
              "      <td>60</td>\n",
              "      <td>NaN</td>\n",
              "    </tr>\n",
              "    <tr>\n",
              "      <th>mean</th>\n",
              "      <td>NaN</td>\n",
              "      <td>NaN</td>\n",
              "      <td>NaN</td>\n",
              "      <td>NaN</td>\n",
              "      <td>NaN</td>\n",
              "      <td>NaN</td>\n",
              "      <td>NaN</td>\n",
              "      <td>NaN</td>\n",
              "      <td>NaN</td>\n",
              "      <td>NaN</td>\n",
              "      <td>...</td>\n",
              "      <td>NaN</td>\n",
              "      <td>NaN</td>\n",
              "      <td>NaN</td>\n",
              "      <td>NaN</td>\n",
              "      <td>NaN</td>\n",
              "      <td>NaN</td>\n",
              "      <td>NaN</td>\n",
              "      <td>NaN</td>\n",
              "      <td>NaN</td>\n",
              "      <td>NaN</td>\n",
              "    </tr>\n",
              "    <tr>\n",
              "      <th>std</th>\n",
              "      <td>NaN</td>\n",
              "      <td>NaN</td>\n",
              "      <td>NaN</td>\n",
              "      <td>NaN</td>\n",
              "      <td>NaN</td>\n",
              "      <td>NaN</td>\n",
              "      <td>NaN</td>\n",
              "      <td>NaN</td>\n",
              "      <td>NaN</td>\n",
              "      <td>NaN</td>\n",
              "      <td>...</td>\n",
              "      <td>NaN</td>\n",
              "      <td>NaN</td>\n",
              "      <td>NaN</td>\n",
              "      <td>NaN</td>\n",
              "      <td>NaN</td>\n",
              "      <td>NaN</td>\n",
              "      <td>NaN</td>\n",
              "      <td>NaN</td>\n",
              "      <td>NaN</td>\n",
              "      <td>NaN</td>\n",
              "    </tr>\n",
              "    <tr>\n",
              "      <th>min</th>\n",
              "      <td>NaN</td>\n",
              "      <td>NaN</td>\n",
              "      <td>NaN</td>\n",
              "      <td>NaN</td>\n",
              "      <td>NaN</td>\n",
              "      <td>NaN</td>\n",
              "      <td>NaN</td>\n",
              "      <td>NaN</td>\n",
              "      <td>NaN</td>\n",
              "      <td>NaN</td>\n",
              "      <td>...</td>\n",
              "      <td>NaN</td>\n",
              "      <td>NaN</td>\n",
              "      <td>NaN</td>\n",
              "      <td>NaN</td>\n",
              "      <td>NaN</td>\n",
              "      <td>NaN</td>\n",
              "      <td>NaN</td>\n",
              "      <td>NaN</td>\n",
              "      <td>NaN</td>\n",
              "      <td>NaN</td>\n",
              "    </tr>\n",
              "    <tr>\n",
              "      <th>25%</th>\n",
              "      <td>NaN</td>\n",
              "      <td>NaN</td>\n",
              "      <td>NaN</td>\n",
              "      <td>NaN</td>\n",
              "      <td>NaN</td>\n",
              "      <td>NaN</td>\n",
              "      <td>NaN</td>\n",
              "      <td>NaN</td>\n",
              "      <td>NaN</td>\n",
              "      <td>NaN</td>\n",
              "      <td>...</td>\n",
              "      <td>NaN</td>\n",
              "      <td>NaN</td>\n",
              "      <td>NaN</td>\n",
              "      <td>NaN</td>\n",
              "      <td>NaN</td>\n",
              "      <td>NaN</td>\n",
              "      <td>NaN</td>\n",
              "      <td>NaN</td>\n",
              "      <td>NaN</td>\n",
              "      <td>NaN</td>\n",
              "    </tr>\n",
              "    <tr>\n",
              "      <th>50%</th>\n",
              "      <td>NaN</td>\n",
              "      <td>NaN</td>\n",
              "      <td>NaN</td>\n",
              "      <td>NaN</td>\n",
              "      <td>NaN</td>\n",
              "      <td>NaN</td>\n",
              "      <td>NaN</td>\n",
              "      <td>NaN</td>\n",
              "      <td>NaN</td>\n",
              "      <td>NaN</td>\n",
              "      <td>...</td>\n",
              "      <td>NaN</td>\n",
              "      <td>NaN</td>\n",
              "      <td>NaN</td>\n",
              "      <td>NaN</td>\n",
              "      <td>NaN</td>\n",
              "      <td>NaN</td>\n",
              "      <td>NaN</td>\n",
              "      <td>NaN</td>\n",
              "      <td>NaN</td>\n",
              "      <td>NaN</td>\n",
              "    </tr>\n",
              "    <tr>\n",
              "      <th>75%</th>\n",
              "      <td>NaN</td>\n",
              "      <td>NaN</td>\n",
              "      <td>NaN</td>\n",
              "      <td>NaN</td>\n",
              "      <td>NaN</td>\n",
              "      <td>NaN</td>\n",
              "      <td>NaN</td>\n",
              "      <td>NaN</td>\n",
              "      <td>NaN</td>\n",
              "      <td>NaN</td>\n",
              "      <td>...</td>\n",
              "      <td>NaN</td>\n",
              "      <td>NaN</td>\n",
              "      <td>NaN</td>\n",
              "      <td>NaN</td>\n",
              "      <td>NaN</td>\n",
              "      <td>NaN</td>\n",
              "      <td>NaN</td>\n",
              "      <td>NaN</td>\n",
              "      <td>NaN</td>\n",
              "      <td>NaN</td>\n",
              "    </tr>\n",
              "    <tr>\n",
              "      <th>max</th>\n",
              "      <td>NaN</td>\n",
              "      <td>NaN</td>\n",
              "      <td>NaN</td>\n",
              "      <td>NaN</td>\n",
              "      <td>NaN</td>\n",
              "      <td>NaN</td>\n",
              "      <td>NaN</td>\n",
              "      <td>NaN</td>\n",
              "      <td>NaN</td>\n",
              "      <td>NaN</td>\n",
              "      <td>...</td>\n",
              "      <td>NaN</td>\n",
              "      <td>NaN</td>\n",
              "      <td>NaN</td>\n",
              "      <td>NaN</td>\n",
              "      <td>NaN</td>\n",
              "      <td>NaN</td>\n",
              "      <td>NaN</td>\n",
              "      <td>NaN</td>\n",
              "      <td>NaN</td>\n",
              "      <td>NaN</td>\n",
              "    </tr>\n",
              "  </tbody>\n",
              "</table>\n",
              "<p>11 rows × 57 columns</p>\n",
              "</div>\n",
              "      <button class=\"colab-df-convert\" onclick=\"convertToInteractive('df-a04c41a4-0c36-40af-8fc8-85ceddcd76fc')\"\n",
              "              title=\"Convert this dataframe to an interactive table.\"\n",
              "              style=\"display:none;\">\n",
              "        \n",
              "  <svg xmlns=\"http://www.w3.org/2000/svg\" height=\"24px\"viewBox=\"0 0 24 24\"\n",
              "       width=\"24px\">\n",
              "    <path d=\"M0 0h24v24H0V0z\" fill=\"none\"/>\n",
              "    <path d=\"M18.56 5.44l.94 2.06.94-2.06 2.06-.94-2.06-.94-.94-2.06-.94 2.06-2.06.94zm-11 1L8.5 8.5l.94-2.06 2.06-.94-2.06-.94L8.5 2.5l-.94 2.06-2.06.94zm10 10l.94 2.06.94-2.06 2.06-.94-2.06-.94-.94-2.06-.94 2.06-2.06.94z\"/><path d=\"M17.41 7.96l-1.37-1.37c-.4-.4-.92-.59-1.43-.59-.52 0-1.04.2-1.43.59L10.3 9.45l-7.72 7.72c-.78.78-.78 2.05 0 2.83L4 21.41c.39.39.9.59 1.41.59.51 0 1.02-.2 1.41-.59l7.78-7.78 2.81-2.81c.8-.78.8-2.07 0-2.86zM5.41 20L4 18.59l7.72-7.72 1.47 1.35L5.41 20z\"/>\n",
              "  </svg>\n",
              "      </button>\n",
              "      \n",
              "  <style>\n",
              "    .colab-df-container {\n",
              "      display:flex;\n",
              "      flex-wrap:wrap;\n",
              "      gap: 12px;\n",
              "    }\n",
              "\n",
              "    .colab-df-convert {\n",
              "      background-color: #E8F0FE;\n",
              "      border: none;\n",
              "      border-radius: 50%;\n",
              "      cursor: pointer;\n",
              "      display: none;\n",
              "      fill: #1967D2;\n",
              "      height: 32px;\n",
              "      padding: 0 0 0 0;\n",
              "      width: 32px;\n",
              "    }\n",
              "\n",
              "    .colab-df-convert:hover {\n",
              "      background-color: #E2EBFA;\n",
              "      box-shadow: 0px 1px 2px rgba(60, 64, 67, 0.3), 0px 1px 3px 1px rgba(60, 64, 67, 0.15);\n",
              "      fill: #174EA6;\n",
              "    }\n",
              "\n",
              "    [theme=dark] .colab-df-convert {\n",
              "      background-color: #3B4455;\n",
              "      fill: #D2E3FC;\n",
              "    }\n",
              "\n",
              "    [theme=dark] .colab-df-convert:hover {\n",
              "      background-color: #434B5C;\n",
              "      box-shadow: 0px 1px 3px 1px rgba(0, 0, 0, 0.15);\n",
              "      filter: drop-shadow(0px 1px 2px rgba(0, 0, 0, 0.3));\n",
              "      fill: #FFFFFF;\n",
              "    }\n",
              "  </style>\n",
              "\n",
              "      <script>\n",
              "        const buttonEl =\n",
              "          document.querySelector('#df-a04c41a4-0c36-40af-8fc8-85ceddcd76fc button.colab-df-convert');\n",
              "        buttonEl.style.display =\n",
              "          google.colab.kernel.accessAllowed ? 'block' : 'none';\n",
              "\n",
              "        async function convertToInteractive(key) {\n",
              "          const element = document.querySelector('#df-a04c41a4-0c36-40af-8fc8-85ceddcd76fc');\n",
              "          const dataTable =\n",
              "            await google.colab.kernel.invokeFunction('convertToInteractive',\n",
              "                                                     [key], {});\n",
              "          if (!dataTable) return;\n",
              "\n",
              "          const docLinkHtml = 'Like what you see? Visit the ' +\n",
              "            '<a target=\"_blank\" href=https://colab.research.google.com/notebooks/data_table.ipynb>data table notebook</a>'\n",
              "            + ' to learn more about interactive tables.';\n",
              "          element.innerHTML = '';\n",
              "          dataTable['output_type'] = 'display_data';\n",
              "          await google.colab.output.renderOutput(dataTable, element);\n",
              "          const docLink = document.createElement('div');\n",
              "          docLink.innerHTML = docLinkHtml;\n",
              "          element.appendChild(docLink);\n",
              "        }\n",
              "      </script>\n",
              "    </div>\n",
              "  </div>\n",
              "  "
            ]
          },
          "metadata": {},
          "execution_count": 73
        }
      ]
    },
    {
      "cell_type": "markdown",
      "source": [
        "## Going through the target variable"
      ],
      "metadata": {
        "id": "2lmK6YCDuhJT"
      }
    },
    {
      "cell_type": "code",
      "source": [
        "df_copy['status'].value_counts()"
      ],
      "metadata": {
        "colab": {
          "base_uri": "https://localhost:8080/"
        },
        "id": "iowGZz-qul5B",
        "outputId": "ab74be2c-95dc-44cd-b008-cbd82fbcb06d"
      },
      "execution_count": 74,
      "outputs": [
        {
          "output_type": "execute_result",
          "data": {
            "text/plain": [
              "Closed      14625\n",
              "Active       2644\n",
              "Dropped       991\n",
              "Pipeline      579\n",
              "Name: status, dtype: int64"
            ]
          },
          "metadata": {},
          "execution_count": 74
        }
      ]
    },
    {
      "cell_type": "code",
      "source": [
        "df_copy.shape"
      ],
      "metadata": {
        "colab": {
          "base_uri": "https://localhost:8080/"
        },
        "id": "gd5UaPEYul7h",
        "outputId": "774a588d-b433-4969-f401-b8ee1117fd3b"
      },
      "execution_count": 75,
      "outputs": [
        {
          "output_type": "execute_result",
          "data": {
            "text/plain": [
              "(18841, 57)"
            ]
          },
          "metadata": {},
          "execution_count": 75
        }
      ]
    },
    {
      "cell_type": "markdown",
      "source": [
        "### According to our problem statement we need to make a binary classifier that will predict weather the project will be 'Closed' or 'Dropped'. Hence' dropping rows with the cases other than above two. It will also reduce our NULL values to some extent"
      ],
      "metadata": {
        "id": "F8ui_eRcvF_C"
      }
    },
    {
      "cell_type": "code",
      "source": [
        "df_copy = df_copy[(df_copy['status'] == 'Closed') | (df_copy['status'] == 'Dropped')]\n",
        "df_copy.shape"
      ],
      "metadata": {
        "colab": {
          "base_uri": "https://localhost:8080/"
        },
        "id": "Fg3iqkHzul96",
        "outputId": "3ddf7ab1-0704-47c3-ba04-869ce23ef542"
      },
      "execution_count": 76,
      "outputs": [
        {
          "output_type": "execute_result",
          "data": {
            "text/plain": [
              "(15616, 57)"
            ]
          },
          "metadata": {},
          "execution_count": 76
        }
      ]
    },
    {
      "cell_type": "markdown",
      "source": [
        "### Handling missing Data"
      ],
      "metadata": {
        "id": "xbGv2jjAgw9O"
      }
    },
    {
      "cell_type": "code",
      "source": [
        "# Missing Value Count Function\n",
        "\n",
        "def show_missing():\n",
        "    missing = df.columns[df.isnull().any()].tolist()\n",
        "    return missing\n",
        "\n",
        "# Missing data counts and percentage\n",
        "print('Missing Data Count')\n",
        "print(df[show_missing()].isnull().sum().sort_values(ascending = False))\n",
        "print('--'*50)\n",
        "print('Missing Data Percentage')\n",
        "print(round(df[show_missing()].isnull().sum().sort_values(ascending = False)/len(df)*100,2))"
      ],
      "metadata": {
        "colab": {
          "base_uri": "https://localhost:8080/"
        },
        "id": "jdYPZAS0gmHl",
        "outputId": "fe8e5fb9-6c35-46ff-e5ba-7306866c258c"
      },
      "execution_count": 77,
      "outputs": [
        {
          "output_type": "stream",
          "name": "stdout",
          "text": [
            "Missing Data Count\n",
            "mjsector4                   18841\n",
            "majorsector_percent         18841\n",
            "mjtheme5name                18841\n",
            "mjtheme4name                18841\n",
            "mjtheme3name                18841\n",
            "mjtheme2name                18841\n",
            "mjtheme1name                18841\n",
            "theme                       18841\n",
            "mjsector5                   18841\n",
            "mjsector3                   18841\n",
            "mjsector2                   18841\n",
            "mjsector1                   18841\n",
            "Unnamed: 56                 18841\n",
            "projectdoc                  18841\n",
            "sector5                     16071\n",
            "theme5                      15906\n",
            "Country                     14390\n",
            "sector4                     14361\n",
            "GeoLocName                  14273\n",
            "Longitude                   14272\n",
            "Latitude                    14272\n",
            "GeoLocID                    14272\n",
            "location                    14272\n",
            "theme4                      13594\n",
            "sector3                     12169\n",
            "financier                   11642\n",
            "theme3                      11333\n",
            "sector2                      9031\n",
            "theme2                       8958\n",
            "goal                         6653\n",
            "impagency                    6553\n",
            "borrower                     6369\n",
            "envassesmentcategorycode     6110\n",
            "closingdate                  3545\n",
            "board_approval_month         1669\n",
            "boardapprovaldate            1669\n",
            "mjsector                      776\n",
            "sector                        776\n",
            "lendinginstrtype              261\n",
            "lendinginstr                  261\n",
            "lendprojectcost               132\n",
            "supplementprojectflg           49\n",
            "status                          2\n",
            "projectstatusdisplay            2\n",
            "dtype: int64\n",
            "----------------------------------------------------------------------------------------------------\n",
            "Missing Data Percentage\n",
            "mjsector4                   100.00\n",
            "majorsector_percent         100.00\n",
            "mjtheme5name                100.00\n",
            "mjtheme4name                100.00\n",
            "mjtheme3name                100.00\n",
            "mjtheme2name                100.00\n",
            "mjtheme1name                100.00\n",
            "theme                       100.00\n",
            "mjsector5                   100.00\n",
            "mjsector3                   100.00\n",
            "mjsector2                   100.00\n",
            "mjsector1                   100.00\n",
            "Unnamed: 56                 100.00\n",
            "projectdoc                  100.00\n",
            "sector5                      85.30\n",
            "theme5                       84.42\n",
            "Country                      76.38\n",
            "sector4                      76.22\n",
            "GeoLocName                   75.76\n",
            "Longitude                    75.75\n",
            "Latitude                     75.75\n",
            "GeoLocID                     75.75\n",
            "location                     75.75\n",
            "theme4                       72.15\n",
            "sector3                      64.59\n",
            "financier                    61.79\n",
            "theme3                       60.15\n",
            "sector2                      47.93\n",
            "theme2                       47.55\n",
            "goal                         35.31\n",
            "impagency                    34.78\n",
            "borrower                     33.80\n",
            "envassesmentcategorycode     32.43\n",
            "closingdate                  18.82\n",
            "board_approval_month          8.86\n",
            "boardapprovaldate             8.86\n",
            "mjsector                      4.12\n",
            "sector                        4.12\n",
            "lendinginstrtype              1.39\n",
            "lendinginstr                  1.39\n",
            "lendprojectcost               0.70\n",
            "supplementprojectflg          0.26\n",
            "status                        0.01\n",
            "projectstatusdisplay          0.01\n",
            "dtype: float64\n"
          ]
        }
      ]
    },
    {
      "cell_type": "markdown",
      "source": [
        "## Removing Features with over 40% missing values"
      ],
      "metadata": {
        "id": "HRaDOpehh5_f"
      }
    },
    {
      "cell_type": "code",
      "source": [
        "# Now working on df_copy\n",
        "\n",
        "df_copy = df_copy.drop(['mjsector4','mjtheme5name','mjtheme4name','mjtheme3name','mjtheme2name','mjtheme1name','mjsector5','mjsector3',\n",
        "                        'mjsector2','mjsector1','Unnamed: 56','sector5','theme5','Country','sector4','GeoLocName','Longitude','Latitude','GeoLocID',\n",
        "                        'location','theme4','sector3','financier','theme3','sector2','theme2','projectdoc ','theme ','majorsector_percent '], axis = 1)"
      ],
      "metadata": {
        "id": "_7Wr8YlGhAc8"
      },
      "execution_count": 78,
      "outputs": []
    },
    {
      "cell_type": "code",
      "source": [
        "# Missing Value Count Function\n",
        "\n",
        "def show_missing():\n",
        "    missing = df_copy.columns[df_copy.isnull().any()].tolist()\n",
        "    return missing\n",
        "\n",
        "# Missing data counts and percentage\n",
        "print('Missing Data Count')\n",
        "print(df_copy[show_missing()].isnull().sum().sort_values(ascending = False))\n",
        "print('--'*50)\n",
        "print('Missing Data Percentage')\n",
        "print(round(df_copy[show_missing()].isnull().sum().sort_values(ascending = False)/len(df_copy)*100,2))"
      ],
      "metadata": {
        "colab": {
          "base_uri": "https://localhost:8080/"
        },
        "id": "N_rneqNSjtnG",
        "outputId": "3e098cff-fa0f-4422-ab47-84803af83d73"
      },
      "execution_count": 79,
      "outputs": [
        {
          "output_type": "stream",
          "name": "stdout",
          "text": [
            "Missing Data Count\n",
            "envassesmentcategorycode    5484\n",
            "goal                        5324\n",
            "impagency                   5116\n",
            "borrower                    5029\n",
            "closingdate                 2402\n",
            "boardapprovaldate           1084\n",
            "board_approval_month        1084\n",
            "lendinginstr                 208\n",
            "lendinginstrtype             208\n",
            "sector                       141\n",
            "mjsector                     141\n",
            "lendprojectcost               57\n",
            "supplementprojectflg          45\n",
            "dtype: int64\n",
            "----------------------------------------------------------------------------------------------------\n",
            "Missing Data Percentage\n",
            "envassesmentcategorycode    35.12\n",
            "goal                        34.09\n",
            "impagency                   32.76\n",
            "borrower                    32.20\n",
            "closingdate                 15.38\n",
            "boardapprovaldate            6.94\n",
            "board_approval_month         6.94\n",
            "lendinginstr                 1.33\n",
            "lendinginstrtype             1.33\n",
            "sector                       0.90\n",
            "mjsector                     0.90\n",
            "lendprojectcost              0.37\n",
            "supplementprojectflg         0.29\n",
            "dtype: float64\n"
          ]
        }
      ]
    },
    {
      "cell_type": "code",
      "source": [
        "df_copy.columns"
      ],
      "metadata": {
        "colab": {
          "base_uri": "https://localhost:8080/"
        },
        "id": "SBtJplH-p5gv",
        "outputId": "b29efa83-3110-4598-e470-7d26418b5d03"
      },
      "execution_count": 80,
      "outputs": [
        {
          "output_type": "execute_result",
          "data": {
            "text/plain": [
              "Index(['id', 'regionname', 'countryname', 'prodline', 'lendinginstr',\n",
              "       'lendinginstrtype', 'envassesmentcategorycode', 'supplementprojectflg',\n",
              "       'productlinetype', 'projectstatusdisplay', 'status', 'project_name',\n",
              "       'boardapprovaldate', 'board_approval_month', 'closingdate',\n",
              "       'lendprojectcost', 'ibrdcommamt', 'idacommamt', 'totalamt', 'grantamt',\n",
              "       'borrower', 'impagency', 'url', 'sector1', 'sector', 'mjsector',\n",
              "       'theme1', 'goal'],\n",
              "      dtype='object')"
            ]
          },
          "metadata": {},
          "execution_count": 80
        }
      ]
    },
    {
      "cell_type": "markdown",
      "source": [
        "Further Inspecting each column and checking the relevance for our result\n",
        "\n",
        "## **goal**"
      ],
      "metadata": {
        "id": "gUKgZBfYsGDg"
      }
    },
    {
      "cell_type": "code",
      "source": [
        "df_copy['goal'].unique()"
      ],
      "metadata": {
        "colab": {
          "base_uri": "https://localhost:8080/"
        },
        "id": "Pjb7wwMMqzqu",
        "outputId": "4c9946f1-b1af-4496-b3b1-d8db0b55e755"
      },
      "execution_count": 81,
      "outputs": [
        {
          "output_type": "execute_result",
          "data": {
            "text/plain": [
              "array([nan,\n",
              "       'Global Public Goods Priorities|Millennium Development Goals;Global Public Goods Priorities|Millennium Development Goals;GPG|MDG;Corporate Advocacy Priorities;CAP;Global Public Goods Priorities|Millennium Development Goals;GPG|MDG',\n",
              "       'Corporate Advocacy Priorities;Corporate Advocacy Priorities;CAP;Corporate Advocacy Priorities;CAP;Global Public Goods Priorities|Corporate Advocacy Priorities;GPG|CAP;Corporate Advocacy Priorities;CAP;Corporate Advocacy Priorities|Millennium Development Goals;CAP|MDG',\n",
              "       ...,\n",
              "       'Corporate Advocacy Priorities;Corporate Advocacy Priorities;CAP;Corporate Advocacy Priorities;CAP;Corporate Advocacy Priorities|Millennium Development Goals;CAP|MDG;Global Public Goods Priorities|Millennium Development Goals;GPG|MDG;Corporate Advocacy Priorities;CAP',\n",
              "       'Corporate Advocacy Priorities|Millennium Development Goals;Corporate Advocacy Priorities|Millennium Development Goals;CAP|MDG;Corporate Advocacy Priorities;CAP;Corporate Advocacy Priorities;CAP;Corporate Advocacy Priorities|Global Public Goods Priorities|Millennium Development Goals;CAP|GPG|MDG;Corporate Advocacy Priorities;CAP',\n",
              "       'Corporate Advocacy Priorities|Millennium Development Goals;Corporate Advocacy Priorities|Millennium Development Goals;CAP|MDG;Global Public Goods Priorities|Millennium Development Goals;GPG|MDG;Corporate Advocacy Priorities;CAP;Global Public Goods Priorities|Millennium Development Goals;GPG|MDG;Corporate Advocacy Priorities;CAP'],\n",
              "      dtype=object)"
            ]
          },
          "metadata": {},
          "execution_count": 81
        }
      ]
    },
    {
      "cell_type": "markdown",
      "source": [
        "This column does not contain any relevance to out target variable and hence will be removed"
      ],
      "metadata": {
        "id": "udhSQFKUtvYB"
      }
    },
    {
      "cell_type": "code",
      "source": [
        "df_copy = df_copy.drop(['goal'], axis =1)"
      ],
      "metadata": {
        "id": "kwzLnYKjPUg9"
      },
      "execution_count": 82,
      "outputs": []
    },
    {
      "cell_type": "markdown",
      "source": [
        "## **impagency**\n",
        "\n",
        "This column contains different agencies codes, and can be important in making decisions, thus imputing this column with 'mean'."
      ],
      "metadata": {
        "id": "3-jwKv8lwMXh"
      }
    },
    {
      "cell_type": "code",
      "source": [
        "df_copy['impagency'].value_counts()"
      ],
      "metadata": {
        "colab": {
          "base_uri": "https://localhost:8080/"
        },
        "id": "4v-51KRJrScP",
        "outputId": "fba8dc58-056a-485d-bd2a-d6a65f059244"
      },
      "execution_count": 83,
      "outputs": [
        {
          "output_type": "execute_result",
          "data": {
            "text/plain": [
              "IIST                          3261\n",
              "T                              284\n",
              "EET                            247\n",
              "EPATET                         144\n",
              "I I                             95\n",
              "                              ... \n",
              "USHAE                            1\n",
              "UAI ET                           1\n",
              "LEAL LE                          1\n",
              "C HI                             1\n",
              "RCPG                IPMENT       1\n",
              "Name: impagency, Length: 3183, dtype: int64"
            ]
          },
          "metadata": {},
          "execution_count": 83
        }
      ]
    },
    {
      "cell_type": "code",
      "source": [
        "# Imputing with mode, as IIST agency appeared 12 times more than any observation\n",
        "\n",
        "df_copy['impagency'] = df_copy['impagency'].fillna(df_copy['impagency'].mode()[0])\n",
        "print('impagency Missing values After Imputing:', df_copy['impagency'].isnull().sum())"
      ],
      "metadata": {
        "id": "jjvk6HIfuDym",
        "colab": {
          "base_uri": "https://localhost:8080/"
        },
        "outputId": "e7b2e7ba-0421-4247-d0e4-f6022978e8ca"
      },
      "execution_count": 84,
      "outputs": [
        {
          "output_type": "stream",
          "name": "stdout",
          "text": [
            "impagency Missing values After Imputing: 0\n"
          ]
        }
      ]
    },
    {
      "cell_type": "markdown",
      "source": [
        "## **borrower**"
      ],
      "metadata": {
        "id": "QD5_HvmpOy9-"
      }
    },
    {
      "cell_type": "code",
      "source": [
        "df_copy['borrower'].value_counts()"
      ],
      "metadata": {
        "colab": {
          "base_uri": "https://localhost:8080/"
        },
        "id": "iVeI4giqO5Q2",
        "outputId": "cfd178bc-15da-48d0-d4f0-08d756febfe3"
      },
      "execution_count": 85,
      "outputs": [
        {
          "output_type": "execute_result",
          "data": {
            "text/plain": [
              "EET        3159\n",
              "EPULIC     1344\n",
              "IIST        456\n",
              "I           263\n",
              "T           255\n",
              "           ... \n",
              "LAE CHA       1\n",
              "IITA A        1\n",
              "HUSI A        1\n",
              "SHA P         1\n",
              "HEP           1\n",
              "Name: borrower, Length: 1522, dtype: int64"
            ]
          },
          "metadata": {},
          "execution_count": 85
        }
      ]
    },
    {
      "cell_type": "code",
      "source": [
        "# Imputing with mode, as EET agency appeared more than any observation\n",
        "\n",
        "df_copy['borrower'] = df_copy['borrower'].fillna(df_copy['borrower'].mode()[0])\n",
        "print('borrower Missing values After Imputing:', df_copy['borrower'].isnull().sum())"
      ],
      "metadata": {
        "colab": {
          "base_uri": "https://localhost:8080/"
        },
        "id": "kuPXBJGV0Yhg",
        "outputId": "23a5b0a7-4ef9-4c8b-c698-63aa99deea9e"
      },
      "execution_count": 86,
      "outputs": [
        {
          "output_type": "stream",
          "name": "stdout",
          "text": [
            "borrower Missing values After Imputing: 0\n"
          ]
        }
      ]
    },
    {
      "cell_type": "markdown",
      "source": [
        "## **envassesmentcategorycode**"
      ],
      "metadata": {
        "id": "YnJeA7yrPfYm"
      }
    },
    {
      "cell_type": "code",
      "source": [
        "df_copy['envassesmentcategorycode'].value_counts()"
      ],
      "metadata": {
        "colab": {
          "base_uri": "https://localhost:8080/"
        },
        "id": "0Xxqp8WoPK5E",
        "outputId": "a643a0ac-b8bb-4e7d-d56f-b1f387503af1"
      },
      "execution_count": 87,
      "outputs": [
        {
          "output_type": "execute_result",
          "data": {
            "text/plain": [
              "C    4561\n",
              "B    4028\n",
              "A     745\n",
              "U     501\n",
              "F     272\n",
              "D      25\n",
              "Name: envassesmentcategorycode, dtype: int64"
            ]
          },
          "metadata": {},
          "execution_count": 87
        }
      ]
    },
    {
      "cell_type": "code",
      "source": [
        "# making a seperate category for this\n",
        "\n",
        "df_copy['envassesmentcategorycode'] = df_copy['envassesmentcategorycode'].replace(np.nan, 'E', regex = True)\n",
        "print(' Missing values After Imputing:', df_copy['envassesmentcategorycode'].isnull().sum())"
      ],
      "metadata": {
        "colab": {
          "base_uri": "https://localhost:8080/"
        },
        "id": "4Gf-vuz3PjEd",
        "outputId": "722a5336-a719-44c8-d5b4-3251cb324a2e"
      },
      "execution_count": 88,
      "outputs": [
        {
          "output_type": "stream",
          "name": "stdout",
          "text": [
            " Missing values After Imputing: 0\n"
          ]
        }
      ]
    },
    {
      "cell_type": "markdown",
      "source": [
        "## **closingdate**\n"
      ],
      "metadata": {
        "id": "ZIcFMjiLjEMo"
      }
    },
    {
      "cell_type": "markdown",
      "source": [
        "### I am assuming that closing dates have no relation to weather a project will be completed and closed or dropped. \n",
        "\n",
        "## Hence; I will be dropping the **closingdate** column \n"
      ],
      "metadata": {
        "id": "-3xVYoetsWGq"
      }
    },
    {
      "cell_type": "markdown",
      "source": [
        "## **boardapprovaldate** & **board_approval_month** also do not hold meaning to the answer we are looking for. Thus; dropping them too.*italicised text*"
      ],
      "metadata": {
        "id": "G-dS4NQ1tsEy"
      }
    },
    {
      "cell_type": "code",
      "source": [
        "df_copy = df_copy.drop(['closingdate','boardapprovaldate','board_approval_month'], axis =1)"
      ],
      "metadata": {
        "id": "mGX8UqSNtmgZ"
      },
      "execution_count": 89,
      "outputs": []
    },
    {
      "cell_type": "markdown",
      "source": [
        "## **lendinginstr**  &  **lendinginstrtype** both have 208 missing values"
      ],
      "metadata": {
        "id": "TB77jYQ4wAUj"
      }
    },
    {
      "cell_type": "code",
      "source": [
        "df_copy['lendinginstr'].value_counts()"
      ],
      "metadata": {
        "colab": {
          "base_uri": "https://localhost:8080/"
        },
        "id": "5NSGuX5UuIzI",
        "outputId": "ac8703f2-1305-4a56-effd-487f6fdfd2ea"
      },
      "execution_count": 90,
      "outputs": [
        {
          "output_type": "execute_result",
          "data": {
            "text/plain": [
              "Specific Investment Loan                   7634\n",
              "Technical Assistance Loan                  1633\n",
              "Sector Investment and Maintenance Loan     1269\n",
              "Investment Project Financing                878\n",
              "Development Policy Lending                  829\n",
              "Financial Intermediary Loan                 813\n",
              "Emergency Recovery Loan                     569\n",
              "Structural Adjustment Loan                  548\n",
              "Adaptable Program Loan                      515\n",
              "Sector Adjustment Loan                      368\n",
              "Learning and Innovation Loan                177\n",
              "Programmatic Structural Adjustment Loan      52\n",
              "Poverty Reduction Support Credit             40\n",
              "UNIDENTIFIED                                 34\n",
              "Rehabilitation Loan                          23\n",
              "Debt and Debt Service Reduction Loan         13\n",
              "Program-for-Results Financing                11\n",
              "Special Structural Adjustment Loan            2\n",
              "Name: lendinginstr, dtype: int64"
            ]
          },
          "metadata": {},
          "execution_count": 90
        }
      ]
    },
    {
      "cell_type": "code",
      "source": [
        "df_copy['lendinginstrtype'].value_counts()"
      ],
      "metadata": {
        "colab": {
          "base_uri": "https://localhost:8080/"
        },
        "id": "uFAv9WjTAemd",
        "outputId": "44d2ebaf-e37a-43d8-aff8-1d2ccdfde198"
      },
      "execution_count": 91,
      "outputs": [
        {
          "output_type": "execute_result",
          "data": {
            "text/plain": [
              "IN    13488\n",
              "AD     1875\n",
              "XX       34\n",
              "PR       11\n",
              "Name: lendinginstrtype, dtype: int64"
            ]
          },
          "metadata": {},
          "execution_count": 91
        }
      ]
    },
    {
      "cell_type": "markdown",
      "source": [
        "### Imputing both of them with mode"
      ],
      "metadata": {
        "id": "I2JRQgumA-Gt"
      }
    },
    {
      "cell_type": "code",
      "source": [
        "df_copy['lendinginstr'] = df_copy['lendinginstr'].fillna(df_copy['lendinginstr'].mode()[0])\n",
        "print('lendinginstr Missing values After Imputing:', df_copy['lendinginstr'].isnull().sum())\n",
        "\n",
        "print('--'*50)\n",
        "\n",
        "df_copy['lendinginstrtype'] = df_copy['lendinginstrtype'].fillna(df_copy['lendinginstrtype'].mode()[0])\n",
        "print('lendinginstrtype Missing values After Imputing:', df_copy['lendinginstrtype'].isnull().sum())"
      ],
      "metadata": {
        "colab": {
          "base_uri": "https://localhost:8080/"
        },
        "id": "ItG-COoqA759",
        "outputId": "2289c7fe-aa9d-4bb1-9d2c-b39203dd6d85"
      },
      "execution_count": 92,
      "outputs": [
        {
          "output_type": "stream",
          "name": "stdout",
          "text": [
            "lendinginstr Missing values After Imputing: 0\n",
            "----------------------------------------------------------------------------------------------------\n",
            "lendinginstrtype Missing values After Imputing: 0\n"
          ]
        }
      ]
    },
    {
      "cell_type": "markdown",
      "source": [
        "### **sector** and **mjsector** both have 141 missing values. Let's take a look"
      ],
      "metadata": {
        "id": "kOe7FE4kBVMG"
      }
    },
    {
      "cell_type": "code",
      "source": [
        "len(df_copy['sector'].value_counts())"
      ],
      "metadata": {
        "colab": {
          "base_uri": "https://localhost:8080/"
        },
        "id": "a00DKd7PBNL0",
        "outputId": "ee93793e-526c-4c39-e0f7-ae10617b7a03"
      },
      "execution_count": 93,
      "outputs": [
        {
          "output_type": "execute_result",
          "data": {
            "text/plain": [
              "4939"
            ]
          },
          "metadata": {},
          "execution_count": 93
        }
      ]
    },
    {
      "cell_type": "code",
      "source": [
        "df_copy['mjsector'].value_counts()"
      ],
      "metadata": {
        "colab": {
          "base_uri": "https://localhost:8080/"
        },
        "id": "YAAaMhNTBjlc",
        "outputId": "4c61d73e-dec0-4a7c-dbb3-4c9969b0bc8b"
      },
      "execution_count": 94,
      "outputs": [
        {
          "output_type": "execute_result",
          "data": {
            "text/plain": [
              "Agriculture; Fishing and Forestry;Agriculture; Fishing and Forestry                                                                                                                                 1649\n",
              "Transportation;Transportation                                                                                                                                                                       1191\n",
              "Public Administration;Public Administration                                                                                                                                                          733\n",
              "(Historic)Electric Power & Other Energy;(Historic)Electric Power & Other Energy                                                                                                                      583\n",
              "Financial Sector;Financial Sector                                                                                                                                                                    575\n",
              "                                                                                                                                                                                                    ... \n",
              "Public Administration;Public Administration;Education;Social Protection;Health;Energy and Extractives                                                                                                  1\n",
              "Public Administration;Public Administration;Public Administration;Health;Industry; Trade and Services                                                                                                  1\n",
              "Social Protection;Social Protection;Water; Sanitation and Waste Management;Public Administration;Agriculture; Fishing and Forestry;Public Administration                                               1\n",
              "Transportation;Transportation;Social Protection;Agriculture; Fishing and Forestry;Public Administration;Water; Sanitation and Waste Management                                                         1\n",
              "Public Administration;Public Administration;Financial Sector;Information and Communications Technologies;Information and Communications Technologies;Information and Communications Technologies       1\n",
              "Name: mjsector, Length: 3033, dtype: int64"
            ]
          },
          "metadata": {},
          "execution_count": 94
        }
      ]
    },
    {
      "cell_type": "code",
      "source": [
        "df_copy['sector'] = df_copy['sector'].fillna(df_copy['sector'].mode()[0])\n",
        "print('sector Missing values After Imputing:', df_copy['sector'].isnull().sum())\n",
        "\n",
        "print('--'*50)\n",
        "\n",
        "df_copy['mjsector'] = df_copy['mjsector'].fillna(df_copy['mjsector'].mode()[0])\n",
        "print('mjsector Missing values After Imputing:', df_copy['mjsector'].isnull().sum())"
      ],
      "metadata": {
        "colab": {
          "base_uri": "https://localhost:8080/"
        },
        "id": "QpI39DYNFKll",
        "outputId": "b3965727-b401-4f1e-e17a-11cbb5138960"
      },
      "execution_count": 101,
      "outputs": [
        {
          "output_type": "stream",
          "name": "stdout",
          "text": [
            "sector Missing values After Imputing: 0\n",
            "----------------------------------------------------------------------------------------------------\n",
            "mjsector Missing values After Imputing: 0\n"
          ]
        }
      ]
    },
    {
      "cell_type": "markdown",
      "source": [
        "## Dropping rest of the missing values as they are not even 0.37 percent of the data we have"
      ],
      "metadata": {
        "id": "iCD1d1F3Kw74"
      }
    },
    {
      "cell_type": "code",
      "source": [
        "df_copy = df_copy.dropna() "
      ],
      "metadata": {
        "id": "RXeKN5a3KUHF"
      },
      "execution_count": 111,
      "outputs": []
    },
    {
      "cell_type": "markdown",
      "source": [
        "## Now before getting into feature engineering, let's find out the most important features of all. This time I will be using an ExtraTree Classifier"
      ],
      "metadata": {
        "id": "qtlaDKFxLMWv"
      }
    },
    {
      "cell_type": "code",
      "source": [
        ""
      ],
      "metadata": {
        "id": "VJX-fuFILGw-"
      },
      "execution_count": null,
      "outputs": []
    }
  ]
}